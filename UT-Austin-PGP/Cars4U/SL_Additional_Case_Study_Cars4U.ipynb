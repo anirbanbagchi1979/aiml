{
  "cells": [
    {
      "cell_type": "markdown",
      "metadata": {
        "id": "R1ex0i2BzFPn"
      },
      "source": [
        "<center><p float=\"center\">\n",
        "  <img src=\"https://upload.wikimedia.org/wikipedia/commons/e/e9/4_RGB_McCombs_School_Brand_Branded.png\" width=\"300\" height=\"100\"/>\n",
        "  <img src=\"https://mma.prnewswire.com/media/1458111/Great_Learning_Logo.jpg?p=facebook\" width=\"200\" height=\"100\"/>\n",
        "</p></center>\n",
        "\n",
        "<h1><center><font size=10>Artificial Intelligence and Machine Learning</center></font></h1>\n",
        "<h1><center>Machine Learning - Cars4u</center></h1>"
      ]
    },
    {
      "cell_type": "markdown",
      "metadata": {
        "id": "GXFMczl0qhPl"
      },
      "source": [
        "<center><img src=\"https://images.pexels.com/photos/164634/pexels-photo-164634.jpeg\" width=\"1080\" height=\"500\"></center>\n",
        "\n",
        "<b><h2><center> Used Car Price Prediction </center></h2></b>"
      ]
    },
    {
      "cell_type": "markdown",
      "metadata": {
        "id": "W_Ho8VGKDu3S"
      },
      "source": [
        "## Problem Statement"
      ]
    },
    {
      "cell_type": "markdown",
      "metadata": {
        "id": "RA_GXJwuhmVz"
      },
      "source": [
        "### Business Context\n",
        "\n",
        "There is a huge demand for used cars in the Indian Market today. As sales of new cars have slowed down in the recent past, the pre-owned car market has continued to grow over the past years and is larger than the new car market now. Cars4U is a budding tech start-up that aims to find footholes in this market.\n",
        "\n",
        "In 2018-19, while new car sales were recorded at 3.6 million units, around 4 million second-hand cars were bought and sold. There is a slowdown in new car sales and that could mean that the demand is shifting towards the pre-owned market. In fact, some car sellers replace their old cars with pre-owned cars instead of buying new ones. Unlike new cars, where price and supply are fairly deterministic and managed by OEMs (Original Equipment Manufacturer / except for dealership level discounts which come into play only in the last stage of the customer journey), used cars are very different beasts with huge uncertainty in both pricing and supply. Keeping this in mind, the pricing scheme of these used cars becomes important in order to grow in the market.\n",
        "\n",
        "As a senior data scientist at Cars4U, you have to come up with a pricing model that can effectively predict the price of used cars and can help the business in devising profitable strategies using differential pricing. For example, if the business knows the market price, it will never sell anything below it.\n",
        "\n",
        "\n",
        "### Objective\n",
        "\n",
        "To explore and visualize the dataset, build a linear regression model to predict the prices of used cars, and generate a set of insights and recommendations that will help the business.\n",
        "\n",
        "\n",
        "### Data Description\n",
        "\n",
        "The data contains the different attributes of used cars sold in different locations. The detailed data dictionary is given below.\n",
        "\n",
        "- Brand: brand name of the car\n",
        "- Model Name: model name of the car\n",
        "- Location: Location in which the car is being sold or is available for purchase (cities)\n",
        "- Year: Manufacturing year of the car\n",
        "- Kilometers_driven: The total kilometers driven in the car by the previous owner(s) in km\n",
        "- Fuel_Type: The type of fuel used by the car (Petrol, Diesel, Electric, CNG, LPG)\n",
        "- Transmission: The type of transmission used by the car (Automatic/Manual)\n",
        "- Owner_Type: Type of ownership\n",
        "- Mileage: The standard mileage offered by the car company in kmpl or km/kg\n",
        "- Engine: The displacement volume of the engine in CC\n",
        "- Power: The maximum power of the engine in bhp\n",
        "- Seats: The number of seats in the car\n",
        "- New_Price: The price of a new car of the same model in INR Lakhs (1 Lakh = 100,000 INR)\n",
        "- Price: The price of the used car in INR Lakhs"
      ]
    },
    {
      "cell_type": "markdown",
      "metadata": {
        "id": "9d5QE-n57qf9"
      },
      "source": [
        "## Importing necessary libraries"
      ]
    },
    {
      "cell_type": "code",
      "execution_count": null,
      "metadata": {
        "id": "5Eb6RdZy7qf9"
      },
      "outputs": [],
      "source": [
        "# this will help in making the Python code more structured automatically (good coding practice)\n",
        "# %load_ext nb_black\n",
        "\n",
        "# Libraries to help with reading and manipulating data\n",
        "import numpy as np\n",
        "import pandas as pd\n",
        "\n",
        "# Libraries to help with data visualization\n",
        "import matplotlib.pyplot as plt\n",
        "import seaborn as sns\n",
        "\n",
        "sns.set()\n",
        "\n",
        "# Removes the limit for the number of displayed columns\n",
        "pd.set_option(\"display.max_columns\", None)\n",
        "# Sets the limit for the number of displayed rows\n",
        "pd.set_option(\"display.max_rows\", 200)\n",
        "\n",
        "# to split the data into train and test\n",
        "from sklearn.model_selection import train_test_split\n",
        "\n",
        "# to build linear regression_model\n",
        "from sklearn.linear_model import LinearRegression\n",
        "\n",
        "# to check model performance\n",
        "from sklearn.metrics import mean_absolute_error, mean_squared_error, r2_score\n",
        "\n",
        "# to suppress warnings\n",
        "import warnings\n",
        "\n",
        "warnings.filterwarnings(\"ignore\")"
      ]
    },
    {
      "cell_type": "markdown",
      "metadata": {
        "id": "xxhpZv9y-qTw"
      },
      "source": [
        "## Loading the dataset"
      ]
    },
    {
      "cell_type": "code",
      "execution_count": null,
      "metadata": {
        "id": "TV-aehaf7qf_"
      },
      "outputs": [],
      "source": [
        "# loading the dataset\n",
        "data = pd.read_csv(\"used_cars_data.csv\")"
      ]
    },
    {
      "cell_type": "markdown",
      "metadata": {
        "id": "_ruS1OQwB_fX"
      },
      "source": [
        "## Data Overview"
      ]
    },
    {
      "cell_type": "markdown",
      "metadata": {
        "id": "qlzqMR1K-qTz"
      },
      "source": [
        "### Displaying the first few rows of the dataset"
      ]
    },
    {
      "cell_type": "code",
      "execution_count": null,
      "metadata": {
        "colab": {
          "base_uri": "https://localhost:8080/"
        },
        "id": "aNvXgPEhWaLv",
        "outputId": "63b53bc3-4868-4d38-fb7c-aa7d955085e2"
      },
      "outputs": [],
      "source": [
        "data.head()"
      ]
    },
    {
      "cell_type": "markdown",
      "metadata": {
        "id": "KQi5ygTC-qT1"
      },
      "source": [
        "### Checking the shape of the dataset"
      ]
    },
    {
      "cell_type": "code",
      "execution_count": null,
      "metadata": {
        "colab": {
          "base_uri": "https://localhost:8080/"
        },
        "id": "-kpbqHeZ7qgA",
        "outputId": "a7c4e53b-fde4-4a61-ab67-6fc7cd5ea5f7"
      },
      "outputs": [],
      "source": [
        "# checking shape of the data\n",
        "print(f\"There are {data.shape[0]} rows and {data.shape[1]} columns.\")"
      ]
    },
    {
      "cell_type": "markdown",
      "metadata": {
        "id": "wBplxfQ5L2VQ"
      },
      "source": [
        "### Checking 10 random rows of the dataset"
      ]
    },
    {
      "cell_type": "code",
      "execution_count": null,
      "metadata": {
        "colab": {
          "base_uri": "https://localhost:8080/"
        },
        "id": "AAYf2CPf7qgB",
        "outputId": "78392911-d460-461a-f125-9505b90f3dc4"
      },
      "outputs": [],
      "source": [
        "# let's view a sample of the data\n",
        "data.sample(n=10, random_state=1)"
      ]
    },
    {
      "cell_type": "markdown",
      "metadata": {
        "id": "q22CYNEj7qgB"
      },
      "source": [
        "**Observations**\n"
      ]
    },
    {
      "cell_type": "code",
      "execution_count": null,
      "metadata": {
        "id": "dt7E8UV67qgB"
      },
      "outputs": [],
      "source": [
        "# let's create a copy of the data to avoid any changes to original data\n",
        "df = data.copy()"
      ]
    },
    {
      "cell_type": "markdown",
      "metadata": {
        "id": "5TcqcxbK-qT3"
      },
      "source": [
        "### Checking the data types of the columns for the dataset"
      ]
    },
    {
      "cell_type": "code",
      "execution_count": null,
      "metadata": {
        "colab": {
          "base_uri": "https://localhost:8080/"
        },
        "id": "W-9OPXv07qgC",
        "outputId": "8121586c-99ba-475e-bd11-40a396504afa"
      },
      "outputs": [],
      "source": [
        "# checking column datatypes and number of non-null values\n",
        "df.info()"
      ]
    },
    {
      "cell_type": "markdown",
      "metadata": {
        "id": "fSYd5z5A7qgC"
      },
      "source": [
        "**Observations**\n",
        "\n",
        "- 6 columns are of the *object* type columns and 7 columns are of *numerical* type columns\n"
      ]
    },
    {
      "cell_type": "markdown",
      "metadata": {
        "id": "xNr4bWoM-qT5"
      },
      "source": [
        "### Checking for duplicate values"
      ]
    },
    {
      "cell_type": "code",
      "execution_count": null,
      "metadata": {
        "colab": {
          "base_uri": "https://localhost:8080/"
        },
        "id": "a_X73QC87qgD",
        "outputId": "7baf5a26-21e2-4c37-df3e-8fd50f853e85"
      },
      "outputs": [],
      "source": [
        "# checking for duplicate values\n",
        "df.duplicated().sum()"
      ]
    },
    {
      "cell_type": "markdown",
      "metadata": {
        "id": "iIAUh9vtUtTc"
      },
      "source": [
        "- There are two duplicate value in the data.\n",
        "- Let's take a closer look at it."
      ]
    },
    {
      "cell_type": "code",
      "execution_count": null,
      "metadata": {
        "colab": {
          "base_uri": "https://localhost:8080/"
        },
        "id": "U_g2W0OL7qgD",
        "outputId": "aabf7de0-2e1c-495c-c061-166a5b706528"
      },
      "outputs": [],
      "source": [
        "df[df.duplicated(keep=False) == True]"
      ]
    },
    {
      "cell_type": "markdown",
      "metadata": {
        "id": "8pVFKR8Y7qgD"
      },
      "source": [
        "**Observations**\n",
        "\n",
        "- There is a good chance that two cars of the same build were sold in the same location.\n",
        "- But it is highly unlikely that both of them will have the same number of kilometers driven.\n",
        "- So, we will drop the row which occurs second."
      ]
    },
    {
      "cell_type": "code",
      "execution_count": null,
      "metadata": {
        "id": "-YKB-cCC7qgD"
      },
      "outputs": [],
      "source": [
        "df.drop(4781, inplace=True)\n",
        "df.drop(6940, inplace=True)"
      ]
    },
    {
      "cell_type": "code",
      "execution_count": null,
      "metadata": {
        "colab": {
          "base_uri": "https://localhost:8080/"
        },
        "id": "wtMW7JzeU2AY",
        "outputId": "2ed7f9bc-6ac6-4213-f4d8-394fa1ab0b0b"
      },
      "outputs": [],
      "source": [
        "# checking for duplicate values\n",
        "df.duplicated().sum()"
      ]
    },
    {
      "cell_type": "markdown",
      "metadata": {
        "id": "JO8BhzLY7qgD"
      },
      "source": [
        "- There are no duplicate values"
      ]
    },
    {
      "cell_type": "markdown",
      "metadata": {
        "id": "kUJ_B5KxhU3D"
      },
      "source": [
        "## <a name='link2'>Exploratory Data Analysis (EDA) Summary</a>\n"
      ]
    },
    {
      "cell_type": "markdown",
      "metadata": {
        "id": "9nu28gwqexqz"
      },
      "source": [
        "### **Note**: The EDA section has been covered in detail in the previous case studies. In this case study, we will mainly focus on the model building aspects. We will only be looking at the key observations from EDA. The detailed EDA can be found in the <a href = #link1>appendix section</a>."
      ]
    },
    {
      "cell_type": "markdown",
      "metadata": {
        "id": "gupWRlF87qgO"
      },
      "source": [
        "**The below functions need to be defined to carry out the Exploratory Data Analysis.**"
      ]
    },
    {
      "cell_type": "code",
      "execution_count": null,
      "metadata": {
        "id": "uDrDd1dT7qgO"
      },
      "outputs": [],
      "source": [
        "# function to create labeled barplots\n",
        "\n",
        "\n",
        "def labeled_barplot(data, feature, perc=False, n=None):\n",
        "    \"\"\"\n",
        "    Barplot with percentage at the top\n",
        "\n",
        "    data: dataframe\n",
        "    feature: dataframe column\n",
        "    perc: whether to display percentages instead of count (default is False)\n",
        "    n: displays the top n category levels (default is None, i.e., display all levels)\n",
        "    \"\"\"\n",
        "\n",
        "    total = len(data[feature])  # length of the column\n",
        "    count = data[feature].nunique()\n",
        "    if n is None:\n",
        "        plt.figure(figsize=(count + 1, 5))\n",
        "    else:\n",
        "        plt.figure(figsize=(n + 1, 5))\n",
        "\n",
        "    plt.xticks(rotation=90, fontsize=15)\n",
        "    ax = sns.countplot(\n",
        "        data=data,\n",
        "        x=feature,\n",
        "        palette=\"Paired\",\n",
        "        order=data[feature].value_counts().index[:n].sort_values(),\n",
        "    )\n",
        "\n",
        "    for p in ax.patches:\n",
        "        if perc == True:\n",
        "            label = \"{:.1f}%\".format(\n",
        "                100 * p.get_height() / total\n",
        "            )  # percentage of each class of the category\n",
        "        else:\n",
        "            label = p.get_height()  # count of each level of the category\n",
        "\n",
        "        x = p.get_x() + p.get_width() / 2  # width of the plot\n",
        "        y = p.get_height()  # height of the plot\n",
        "\n",
        "        ax.annotate(\n",
        "            label,\n",
        "            (x, y),\n",
        "            ha=\"center\",\n",
        "            va=\"center\",\n",
        "            size=12,\n",
        "            xytext=(0, 5),\n",
        "            textcoords=\"offset points\",\n",
        "        )  # annotate the percentage\n",
        "\n",
        "    plt.show()  # show the plot"
      ]
    },
    {
      "cell_type": "code",
      "execution_count": null,
      "metadata": {
        "id": "slP7IfheDf9E"
      },
      "outputs": [],
      "source": [
        "# function to plot a boxplot and a histogram along the same scale.\n",
        "\n",
        "\n",
        "def histogram_boxplot(data, feature, figsize=(12, 7), kde=False, bins=None):\n",
        "    \"\"\"\n",
        "    Boxplot and histogram combined\n",
        "\n",
        "    data: dataframe\n",
        "    feature: dataframe column\n",
        "    figsize: size of figure (default (12,7))\n",
        "    kde: whether to the show density curve (default False)\n",
        "    bins: number of bins for histogram (default None)\n",
        "    \"\"\"\n",
        "    f2, (ax_box2, ax_hist2) = plt.subplots(\n",
        "        nrows=2,  # Number of rows of the subplot grid= 2\n",
        "        sharex=True,  # x-axis will be shared among all subplots\n",
        "        gridspec_kw={\"height_ratios\": (0.25, 0.75)},\n",
        "        figsize=figsize,\n",
        "    )  # creating the 2 subplots\n",
        "    sns.boxplot(\n",
        "        data=data, x=feature, ax=ax_box2, showmeans=True, color=\"violet\"\n",
        "    )  # boxplot will be created and a star will indicate the mean value of the column\n",
        "    sns.histplot(\n",
        "        data=data, x=feature, kde=kde, ax=ax_hist2, bins=bins, palette=\"winter\"\n",
        "    ) if bins else sns.histplot(\n",
        "        data=data, x=feature, kde=kde, ax=ax_hist2\n",
        "    )  # For histogram\n",
        "    ax_hist2.axvline(\n",
        "        data[feature].mean(), color=\"green\", linestyle=\"--\"\n",
        "    )  # Add mean to the histogram\n",
        "    ax_hist2.axvline(\n",
        "        data[feature].median(), color=\"black\", linestyle=\"-\"\n",
        "    )  # Add median to the histogram"
      ]
    },
    {
      "cell_type": "markdown",
      "metadata": {
        "id": "HdlR3wVEMyfW"
      },
      "source": [
        "### Univariate Analysis"
      ]
    },
    {
      "cell_type": "code",
      "execution_count": null,
      "metadata": {
        "id": "qKkbozuCNc4s"
      },
      "outputs": [],
      "source": [
        "# creating a copy of the dataframe\n",
        "df1 = df.copy()"
      ]
    },
    {
      "cell_type": "markdown",
      "metadata": {
        "id": "s7MRxT3t7qga"
      },
      "source": [
        "#### `Price`"
      ]
    },
    {
      "cell_type": "code",
      "execution_count": null,
      "metadata": {
        "colab": {
          "base_uri": "https://localhost:8080/"
        },
        "id": "EM_sgrCl7qga",
        "outputId": "67f5cafb-c7cf-4d38-839c-eb9a1be0b12d"
      },
      "outputs": [],
      "source": [
        "histogram_boxplot(df1, \"Price\", kde=True)"
      ]
    },
    {
      "cell_type": "markdown",
      "metadata": {
        "id": "UQvt2nGi7qga"
      },
      "source": [
        "**Observations**\n",
        "\n",
        "* This is a highly skewed distribution.\n"
      ]
    },
    {
      "cell_type": "code",
      "execution_count": null,
      "metadata": {},
      "outputs": [],
      "source": []
    },
    {
      "cell_type": "code",
      "execution_count": null,
      "metadata": {},
      "outputs": [],
      "source": [
        "histogram_boxplot(df1, \"Price\", kde=True)"
      ]
    },
    {
      "cell_type": "markdown",
      "metadata": {
        "id": "k3uJz1M5Ftfs"
      },
      "source": [
        "#### `New_Price`"
      ]
    },
    {
      "cell_type": "code",
      "execution_count": null,
      "metadata": {
        "colab": {
          "base_uri": "https://localhost:8080/"
        },
        "id": "CooG4RKIFtfs",
        "outputId": "7e0fa1a6-40e6-42a5-c104-a806d11a0a4b"
      },
      "outputs": [],
      "source": [
        "histogram_boxplot(df1, \"New_Price\", kde=True)"
      ]
    },
    {
      "cell_type": "markdown",
      "metadata": {
        "id": "07WxozOtFtft"
      },
      "source": [
        "**Observations**\n",
        "\n",
        "* This is another highly skewed distribution.\n"
      ]
    },
    {
      "cell_type": "markdown",
      "metadata": {
        "id": "mrTVWk3I7qgd"
      },
      "source": [
        "#### `Brand`"
      ]
    },
    {
      "cell_type": "code",
      "execution_count": null,
      "metadata": {
        "colab": {
          "base_uri": "https://localhost:8080/"
        },
        "id": "UjYJe_v27qgd",
        "outputId": "bf50ab5c-b42f-47f3-fa04-10a40a2b6c86"
      },
      "outputs": [],
      "source": [
        "labeled_barplot(df1, \"Brand\", perc=True, n=10)"
      ]
    },
    {
      "cell_type": "markdown",
      "metadata": {
        "id": "DoMZH3bX7qgd"
      },
      "source": [
        "* Most of the cars in the data belong to Maruti or Hyundai. The price of used cars is lower for budget brands like Porsche, Bentley, Lamborghini, etc. The price of used cars is higher for premium brands like Maruti, Tata, Fiat, etc."
      ]
    },
    {
      "cell_type": "markdown",
      "metadata": {
        "id": "qL4SMFui7qge"
      },
      "source": [
        "#### `Location`"
      ]
    },
    {
      "cell_type": "code",
      "execution_count": null,
      "metadata": {
        "colab": {
          "base_uri": "https://localhost:8080/"
        },
        "id": "beFTD05b7qge",
        "outputId": "6a90617d-79e3-41e0-bb51-4ed56ed53ac3"
      },
      "outputs": [],
      "source": [
        "labeled_barplot(df1, \"Location\", perc=True)"
      ]
    },
    {
      "cell_type": "markdown",
      "metadata": {
        "id": "BLMilY7c7qge"
      },
      "source": [
        "* Hyderabad and Mumbai have the most demand for used cars. The price of used cars has a large IQR in Coimbatore and Bangalore."
      ]
    },
    {
      "cell_type": "markdown",
      "metadata": {
        "id": "NE2JV7LD7qgf"
      },
      "source": [
        "#### `Fuel_Type`"
      ]
    },
    {
      "cell_type": "code",
      "execution_count": null,
      "metadata": {
        "colab": {
          "base_uri": "https://localhost:8080/"
        },
        "id": "u4NGrPyA7qgf",
        "outputId": "02381b24-edcb-49db-da45-52bb99488f23"
      },
      "outputs": [],
      "source": [
        "labeled_barplot(df1, \"Fuel_Type\", perc=True)"
      ]
    },
    {
      "cell_type": "markdown",
      "metadata": {
        "id": "-EZS5oCp7qgf"
      },
      "source": [
        "* Around 1% of the cars in the dataset do not run on diesel or petrol."
      ]
    },
    {
      "cell_type": "markdown",
      "metadata": {
        "id": "mqV9hRi9MoKW"
      },
      "source": [
        "### Bivariate Analysis"
      ]
    },
    {
      "cell_type": "markdown",
      "metadata": {
        "id": "VKRHs0BHFMz6"
      },
      "source": [
        "#### Correlation Check"
      ]
    },
    {
      "cell_type": "code",
      "execution_count": null,
      "metadata": {
        "colab": {
          "base_uri": "https://localhost:8080/"
        },
        "id": "Du8zbaAY7qgg",
        "outputId": "c1b6c85c-1ea7-47c7-c0c7-3074a63fe9d1"
      },
      "outputs": [],
      "source": [
        "cols_list = df1.select_dtypes(include=np.number).columns.tolist()\n",
        "# dropping Year as it is a temporal variable\n",
        "cols_list.remove(\"Year\")\n",
        "\n",
        "plt.figure(figsize=(15, 7))\n",
        "sns.heatmap(\n",
        "    df1[cols_list].corr(), annot=True, vmin=-1, vmax=1, fmt=\".2f\", cmap=\"Spectral\"\n",
        ")\n",
        "plt.show()"
      ]
    },
    {
      "cell_type": "markdown",
      "metadata": {
        "id": "Qg2ibTtb7qgg"
      },
      "source": [
        "**Observations**\n",
        "\n",
        "* `Power` and `Engine` are important predictors of used car price, but they are also highly correlated to each other.\n",
        "* The price of a new car of the same model seems to be an important predictor of the used car price, which makes sense."
      ]
    },
    {
      "cell_type": "markdown",
      "metadata": {
        "id": "ONKpeUbX7qgg"
      },
      "source": [
        "#### `Price` vs `Location`"
      ]
    },
    {
      "cell_type": "code",
      "execution_count": null,
      "metadata": {
        "colab": {
          "base_uri": "https://localhost:8080/"
        },
        "id": "ZpAPWXqT7qgg",
        "outputId": "c316f0bc-4c5e-485b-8eb2-615a2361e946"
      },
      "outputs": [],
      "source": [
        "plt.figure(figsize=(12, 5))\n",
        "sns.boxplot(x=\"Location\", y=\"Price\", data=df1)\n",
        "plt.show()"
      ]
    },
    {
      "cell_type": "markdown",
      "metadata": {
        "id": "aBfhkYJ77qgh"
      },
      "source": [
        "* The price of used cars has a large IQR in Coimbatore and Bangalore."
      ]
    },
    {
      "cell_type": "markdown",
      "metadata": {
        "id": "LUrktk3s7qgP"
      },
      "source": [
        "#### `Price` vs `Brand`"
      ]
    },
    {
      "cell_type": "code",
      "execution_count": null,
      "metadata": {
        "colab": {
          "base_uri": "https://localhost:8080/"
        },
        "id": "jvKir-Wh7qgP",
        "outputId": "7ae2726f-14c0-44f2-f917-d4fe16c82f0b"
      },
      "outputs": [],
      "source": [
        "plt.figure(figsize=(18, 5))\n",
        "sns.boxplot(x=\"Brand\", y=\"Price\", data=df)\n",
        "plt.xticks(rotation=90)\n",
        "plt.show()"
      ]
    },
    {
      "cell_type": "markdown",
      "metadata": {
        "id": "n7JFFDHE7qgP"
      },
      "source": [
        "* The price of used cars is lower for budget brands like Maruti, Tata, Fiat, etc.\n",
        "* The price of used cars is higher for premium brands like Porsche, Audi, Lamborghini, etc."
      ]
    },
    {
      "cell_type": "markdown",
      "metadata": {
        "id": "BUM8wCaH7qgh"
      },
      "source": [
        "#### `Price` vs `Year`"
      ]
    },
    {
      "cell_type": "code",
      "execution_count": null,
      "metadata": {
        "colab": {
          "base_uri": "https://localhost:8080/"
        },
        "id": "XJnhDCRw7qgh",
        "outputId": "53debc24-a9ba-4b35-ab18-c4814018dcd9"
      },
      "outputs": [],
      "source": [
        "plt.figure(figsize=(18, 5))\n",
        "sns.boxplot(x=\"Year\", y=\"Price\", data=df1)\n",
        "plt.show()"
      ]
    },
    {
      "cell_type": "markdown",
      "metadata": {
        "id": "Fxr8vN-N7qgh"
      },
      "source": [
        "* The price of used cars has increased over the years."
      ]
    },
    {
      "cell_type": "markdown",
      "metadata": {
        "id": "mJM22vsN7qgQ"
      },
      "source": [
        "## Data Preprocessing"
      ]
    },
    {
      "cell_type": "markdown",
      "metadata": {
        "id": "eU_yWERC7qgQ"
      },
      "source": [
        "### Missing Value Treatment"
      ]
    },
    {
      "cell_type": "code",
      "execution_count": null,
      "metadata": {
        "colab": {
          "base_uri": "https://localhost:8080/"
        },
        "id": "6iRCUTGx7qgQ",
        "outputId": "66ec45e5-ac20-406b-a112-17463b87d455",
        "scrolled": true
      },
      "outputs": [],
      "source": [
        "# let's check again for missing values\n",
        "df.isnull().sum()"
      ]
    },
    {
      "cell_type": "markdown",
      "metadata": {
        "id": "QMwmKFqr7qgQ"
      },
      "source": [
        "**Let's look at a few rows where number of seats is missing.**"
      ]
    },
    {
      "cell_type": "code",
      "execution_count": null,
      "metadata": {
        "colab": {
          "base_uri": "https://localhost:8080/"
        },
        "id": "PGJStXr87qgQ",
        "outputId": "0e046e32-7a42-4620-b25d-35aff843a4a5",
        "scrolled": true
      },
      "outputs": [],
      "source": [
        "df[df[\"Seats\"].isnull()]"
      ]
    },
    {
      "cell_type": "markdown",
      "metadata": {
        "id": "O03CNZP27qgR"
      },
      "source": [
        "**We'll impute these missing values one-by-one by taking the median number of seats for the particular car using the `Brand` and `Model`.**"
      ]
    },
    {
      "cell_type": "code",
      "execution_count": null,
      "metadata": {
        "colab": {
          "base_uri": "https://localhost:8080/"
        },
        "id": "zk6u-lN97qgR",
        "outputId": "59d92dcd-b4c5-4073-a98d-bbe177b10061"
      },
      "outputs": [],
      "source": [
        "df.groupby([\"Brand\",\"Model\"], as_index=False)[\"Seats\"].median()"
      ]
    },
    {
      "cell_type": "code",
      "execution_count": null,
      "metadata": {
        "id": "fkhZDHs07qgR"
      },
      "outputs": [],
      "source": [
        "# imputing missing values in Seats\n",
        "df[\"Seats\"] = df.groupby([\"Brand\",\"Model\"])[\"Seats\"].transform(\n",
        "    lambda x: x.fillna(x.median())\n",
        ")"
      ]
    },
    {
      "cell_type": "code",
      "execution_count": null,
      "metadata": {
        "colab": {
          "base_uri": "https://localhost:8080/"
        },
        "id": "vLNcq3EN7qgS",
        "outputId": "1416c57b-3225-453d-a5b8-07dc0da57439"
      },
      "outputs": [],
      "source": [
        "# Checking missing values in Seats\n",
        "df[df[\"Seats\"].isnull()]"
      ]
    },
    {
      "cell_type": "markdown",
      "metadata": {
        "id": "6zJtd4y-7qgS"
      },
      "source": [
        "* Maruti Estilo can accommodate 5 people."
      ]
    },
    {
      "cell_type": "code",
      "execution_count": null,
      "metadata": {
        "id": "9XU7byeN7qgS"
      },
      "outputs": [],
      "source": [
        "df[\"Seats\"] = df[\"Seats\"].fillna(5.0)"
      ]
    },
    {
      "cell_type": "markdown",
      "metadata": {
        "id": "Q-DA57a_7qgS"
      },
      "source": [
        "**We will use a similar method to fill missing values for the `Kilometers_Driven`, `mileage_num`, `engine_num`, and `power_num` columns.**"
      ]
    },
    {
      "cell_type": "code",
      "execution_count": null,
      "metadata": {
        "colab": {
          "base_uri": "https://localhost:8080/"
        },
        "id": "nU2U-44q7qgT",
        "outputId": "7b2fc08c-620f-4925-a2a5-9ba220d5485a"
      },
      "outputs": [],
      "source": [
        "cols_list = [\"Kilometers_Driven\",\"mileage_num\", \"engine_num\", \"power_num\"]\n",
        "\n",
        "for col in cols_list:\n",
        "    df[col] = df.groupby([\"Brand\", \"Model\"])[col].transform(\n",
        "        lambda x: x.fillna(x.median())\n",
        "    )\n",
        "\n",
        "df.isnull().sum()"
      ]
    },
    {
      "cell_type": "markdown",
      "metadata": {
        "id": "ViE8JLQa7qgT"
      },
      "source": [
        "* There are still some missing values in `mileage_num` and `power_num`.\n",
        "* We'll impute these missing values by taking the median grouped by the `Brand`."
      ]
    },
    {
      "cell_type": "code",
      "execution_count": null,
      "metadata": {
        "colab": {
          "base_uri": "https://localhost:8080/"
        },
        "id": "fvHvOt_57qgT",
        "outputId": "fa6ccb67-87bc-4fad-afac-50399e329385"
      },
      "outputs": [],
      "source": [
        "cols_list = [\"mileage_num\", \"power_num\"]\n",
        "\n",
        "for col in cols_list:\n",
        "    df[col] = df.groupby([\"Brand\"])[col].transform(lambda x: x.fillna(x.median()))\n",
        "\n",
        "df.isnull().sum()"
      ]
    },
    {
      "cell_type": "markdown",
      "metadata": {
        "id": "gnYHOgiW7qgT"
      },
      "source": [
        "* There are still some missing values in `mileage_num` and `power_num`.\n",
        "* We'll impute these missing values using the column median across the entire data."
      ]
    },
    {
      "cell_type": "code",
      "execution_count": null,
      "metadata": {
        "colab": {
          "base_uri": "https://localhost:8080/"
        },
        "id": "2XxCbpQ07qgT",
        "outputId": "e4a047ca-d82c-4130-b4c3-d13c629edb13"
      },
      "outputs": [],
      "source": [
        "cols_list = [\"mileage_num\", \"power_num\"]\n",
        "\n",
        "for col in cols_list:\n",
        "    df[col] = df[col].fillna(df[col].median())\n",
        "\n",
        "df.isnull().sum()"
      ]
    },
    {
      "cell_type": "markdown",
      "metadata": {
        "id": "lnt2aPmB7qgT"
      },
      "source": [
        "- Missing values in all columns except `Price` are imputed.\n",
        "- We will drop the rows where `Price` is missing as it is the target variable.\n"
      ]
    },
    {
      "cell_type": "code",
      "execution_count": null,
      "metadata": {
        "colab": {
          "base_uri": "https://localhost:8080/"
        },
        "id": "qK9TxMzk7qgT",
        "outputId": "8fecd88c-c376-42a0-b6d4-88ae628b8f65"
      },
      "outputs": [],
      "source": [
        "# considering only the data points where price is not missing\n",
        "df = df[df[\"Price\"].notna()].copy()\n",
        "\n",
        "# checking for missing values\n",
        "df.isnull().sum()"
      ]
    },
    {
      "cell_type": "markdown",
      "metadata": {
        "id": "m-rz4iiW7qgT"
      },
      "source": [
        "- All missing values are dealt with."
      ]
    },
    {
      "cell_type": "markdown",
      "metadata": {
        "id": "1JsqBJEohmWK"
      },
      "source": [
        "## Model Building - Linear Regression\n"
      ]
    },
    {
      "cell_type": "markdown",
      "metadata": {
        "id": "1q0lwMUR7qgU"
      },
      "source": [
        "1. We want to predict the used car price.\n",
        "2. Before we proceed to build a model, we'll have to encode categorical features.\n",
        "3. We'll split the data into train and test to be able to evaluate the model that we build on the train data.\n",
        "4. We will build a Linear Regression model using the train data and then check it's performance."
      ]
    },
    {
      "cell_type": "code",
      "execution_count": 1,
      "metadata": {
        "colab": {
          "base_uri": "https://localhost:8080/"
        },
        "id": "BeigEPHHYJMU",
        "outputId": "abbd2209-3a48-4ab3-d979-a422b9e5bc5e"
      },
      "outputs": [
        {
          "ename": "NameError",
          "evalue": "name 'df' is not defined",
          "output_type": "error",
          "traceback": [
            "\u001b[1;31m---------------------------------------------------------------------------\u001b[0m",
            "\u001b[1;31mNameError\u001b[0m                                 Traceback (most recent call last)",
            "Cell \u001b[1;32mIn[1], line 5\u001b[0m\n\u001b[0;32m      1\u001b[0m \u001b[38;5;66;03m# looking at value counts for non-numeric features\u001b[39;00m\n\u001b[0;32m      3\u001b[0m num_to_display \u001b[38;5;241m=\u001b[39m \u001b[38;5;241m10\u001b[39m  \u001b[38;5;66;03m# defining this up here so it's easy to change later\u001b[39;00m\n\u001b[1;32m----> 5\u001b[0m \u001b[38;5;28;01mfor\u001b[39;00m colname \u001b[38;5;129;01min\u001b[39;00m \u001b[43mdf\u001b[49m\u001b[38;5;241m.\u001b[39mdtypes[df\u001b[38;5;241m.\u001b[39mdtypes \u001b[38;5;241m==\u001b[39m \u001b[38;5;124m\"\u001b[39m\u001b[38;5;124mobject\u001b[39m\u001b[38;5;124m\"\u001b[39m]\u001b[38;5;241m.\u001b[39mindex:\n\u001b[0;32m      6\u001b[0m     val_counts \u001b[38;5;241m=\u001b[39m df[colname]\u001b[38;5;241m.\u001b[39mvalue_counts(dropna\u001b[38;5;241m=\u001b[39m\u001b[38;5;28;01mFalse\u001b[39;00m)  \u001b[38;5;66;03m# will also show the NA counts\u001b[39;00m\n\u001b[0;32m      7\u001b[0m     \u001b[38;5;28mprint\u001b[39m(val_counts[:num_to_display])\n",
            "\u001b[1;31mNameError\u001b[0m: name 'df' is not defined"
          ]
        }
      ],
      "source": [
        "# looking at value counts for non-numeric features\n",
        "\n",
        "num_to_display = 10  # defining this up here so it's easy to change later\n",
        "\n",
        "for colname in df.dtypes[df.dtypes == \"object\"].index:\n",
        "    val_counts = df[colname].value_counts(dropna=False)  # will also show the NA counts\n",
        "    print(val_counts[:num_to_display])\n",
        "\n",
        "    if len(val_counts) > num_to_display:\n",
        "        print(f\"Only displaying first {num_to_display} of {len(val_counts)} values.\")\n",
        "    print(\"-\" * 50, \"\\n\")  # just for more space in between"
      ]
    },
    {
      "cell_type": "markdown",
      "metadata": {
        "id": "lq4X4m4jYi1e"
      },
      "source": [
        "Observations:\n",
        "\n",
        "- Creating dummy variables for the categorical variable `Model`(211) would increase the number of features in the model extensively.\n",
        "\n",
        "- To check the effect of these dummy variables, we can create two models\n",
        "     - one with all the variables\n",
        "     - one without the `Model` dummy variables\n",
        "\n",
        "- This will allow us to see how the dummy variables affect the performance of the model."
      ]
    },
    {
      "cell_type": "markdown",
      "metadata": {
        "id": "9dgIbf7ALlYm"
      },
      "source": [
        "### Model Performance Check"
      ]
    },
    {
      "cell_type": "markdown",
      "metadata": {
        "id": "5MyYq4vaKffS"
      },
      "source": [
        "Before moving ahead, we define a function to check the performance of the model using different metrics.\n",
        "\n",
        "* We will be using metric functions defined in sklearn for RMSE, MAE, and $R^2$.\n",
        "* We will define a function to calculate adjusted $R^2$.    \n",
        "* We will create a function which will print out all the above metrics in one go."
      ]
    },
    {
      "cell_type": "code",
      "execution_count": null,
      "metadata": {
        "id": "deaapIIvlJIL"
      },
      "outputs": [],
      "source": [
        "# function to compute adjusted R-squared\n",
        "def adj_r2_score(predictors, targets, predictions):\n",
        "    r2 = r2_score(targets, predictions)\n",
        "    n = predictors.shape[0]\n",
        "    k = predictors.shape[1]\n",
        "    return 1 - ((1 - r2) * (n - 1) / (n - k - 1))\n",
        "\n",
        "# function to compute different metrics to check performance of a regression model\n",
        "def model_performance_regression(model, predictors, target):\n",
        "    \"\"\"\n",
        "    Function to compute different metrics to check regression model performance\n",
        "\n",
        "    model: regressor\n",
        "    predictors: independent variables\n",
        "    target: dependent variable\n",
        "    \"\"\"\n",
        "\n",
        "    # predicting using the independent variables\n",
        "    pred = model.predict(predictors)\n",
        "\n",
        "    r2 = r2_score(target, pred)  # to compute R-squared\n",
        "    adjr2 = adj_r2_score(predictors, target, pred)  # to compute adjusted R-squared\n",
        "    rmse = np.sqrt(mean_squared_error(target, pred))  # to compute RMSE\n",
        "    mae = mean_absolute_error(target, pred)  # to compute MAE\n",
        "\n",
        "    # creating a dataframe of metrics\n",
        "    df_perf = pd.DataFrame(\n",
        "        {\n",
        "            \"RMSE\": rmse,\n",
        "            \"MAE\": mae,\n",
        "            \"R-squared\": r2,\n",
        "            \"Adj. R-squared\": adjr2,\n",
        "        },\n",
        "        index=[0],\n",
        "    )\n",
        "\n",
        "    return df_perf"
      ]
    },
    {
      "cell_type": "markdown",
      "metadata": {
        "id": "but7oI7m2vvY"
      },
      "source": [
        "### Data Preparation for modeling with all variables"
      ]
    },
    {
      "cell_type": "code",
      "execution_count": null,
      "metadata": {
        "id": "y9ltvedT7qgU"
      },
      "outputs": [],
      "source": [
        "# defining the dependent and independent variables\n",
        "X = df.drop([\"Price\"], axis=1)\n",
        "y = df[\"Price\"]"
      ]
    },
    {
      "cell_type": "code",
      "execution_count": null,
      "metadata": {
        "colab": {
          "base_uri": "https://localhost:8080/",
          "height": 243
        },
        "id": "iBUQrH_c7qgU",
        "outputId": "2725e7cd-9ddc-420e-b0e4-3b5336615bb9"
      },
      "outputs": [],
      "source": [
        "# creating dummy variables\n",
        "X = pd.get_dummies(\n",
        "    X,\n",
        "    columns=X.select_dtypes(include=[\"object\", \"category\"]).columns.tolist(),\n",
        "    drop_first=True,\n",
        ")\n",
        "\n",
        "X.head()"
      ]
    },
    {
      "cell_type": "code",
      "execution_count": null,
      "metadata": {
        "colab": {
          "base_uri": "https://localhost:8080/"
        },
        "id": "QyO8W_-fZUdl",
        "outputId": "60044c3a-3a17-4572-e070-1821178407d6"
      },
      "outputs": [],
      "source": [
        "X.shape"
      ]
    },
    {
      "cell_type": "markdown",
      "metadata": {
        "id": "JOb8wBDibt0G"
      },
      "source": [
        "- The dataset X has 264 columns and 6018 rows"
      ]
    },
    {
      "cell_type": "code",
      "execution_count": null,
      "metadata": {
        "id": "ps25Bvpb7qgU"
      },
      "outputs": [],
      "source": [
        "# splitting the data in 70:30 ratio for train to test data\n",
        "\n",
        "x_train, x_test, y_train, y_test = train_test_split(X, y, test_size=0.3, random_state=1)"
      ]
    },
    {
      "cell_type": "code",
      "execution_count": null,
      "metadata": {
        "colab": {
          "base_uri": "https://localhost:8080/"
        },
        "id": "kdIwnAzc7qgU",
        "outputId": "0461d5ea-9256-4cba-9868-c0fe7bf5871d"
      },
      "outputs": [],
      "source": [
        "print(\"Number of rows in train data =\", x_train.shape[0])\n",
        "print(\"Number of rows in test data =\", x_test.shape[0])"
      ]
    },
    {
      "cell_type": "markdown",
      "metadata": {
        "id": "BORpLf603HRr"
      },
      "source": [
        "### Model Building - Linear Regression with all variables"
      ]
    },
    {
      "cell_type": "code",
      "execution_count": null,
      "metadata": {
        "colab": {
          "base_uri": "https://localhost:8080/",
          "height": 74
        },
        "id": "f5wr9Oho7qgU",
        "outputId": "28720356-0db9-4814-ca8f-fd3241fb2159"
      },
      "outputs": [],
      "source": [
        "# fitting a linear model\n",
        "lin_reg_model1 = LinearRegression()\n",
        "lin_reg_model1.fit(x_train, y_train)"
      ]
    },
    {
      "cell_type": "code",
      "execution_count": null,
      "metadata": {
        "colab": {
          "base_uri": "https://localhost:8080/",
          "height": 98
        },
        "id": "lR4gzNAX7qgV",
        "outputId": "2559a31a-ab67-4e6b-dca5-743033248890"
      },
      "outputs": [],
      "source": [
        "# Checking model performance on train set\n",
        "print(\"Training Performance:\")\n",
        "lin_reg_model1_perf_train = model_performance_regression(\n",
        "    lin_reg_model1, x_train, y_train\n",
        ")\n",
        "lin_reg_model1_perf_train"
      ]
    },
    {
      "cell_type": "markdown",
      "metadata": {
        "id": "qXJEY61o7qgV"
      },
      "source": [
        "* Both the R-squared and Adjusted R squared of our model are high. This is a clear indication that we have been able to create a very good model that is able to explain variance in the price of used cars up to ~87%.\n",
        "\n",
        "* The model is not an underfitting model.\n",
        "\n",
        "* Let's do a quick performance check on the test data."
      ]
    },
    {
      "cell_type": "code",
      "execution_count": null,
      "metadata": {
        "colab": {
          "base_uri": "https://localhost:8080/",
          "height": 98
        },
        "id": "_xe5t8mj7qgV",
        "outputId": "436c9602-2b3e-4871-fad1-76cbc8728996"
      },
      "outputs": [],
      "source": [
        "# Checking model performance on test set\n",
        "print(\"Test Performance:\")\n",
        "lin_reg_model1_perf_test = model_performance_regression(lin_reg_model1, x_test, y_test)\n",
        "lin_reg_model1_perf_test"
      ]
    },
    {
      "cell_type": "markdown",
      "metadata": {
        "id": "dZCHcCe87qgV"
      },
      "source": [
        "* Root Mean Squared Error (RMSE) and Mean Absolute Error (MAE) of train and test data are close, which indicates that our model is not overfitting the train data.\n",
        "\n",
        "* MAE indicates that our current model is able to predict used car prices within a mean error of 4.3 lakhs on test data.\n",
        "\n",
        "* The units of both RMSE and MAE are the same, Lakhs in this case. But RMSE is greater than MAE because it penalizes the outliers more.\n"
      ]
    },
    {
      "cell_type": "markdown",
      "metadata": {
        "id": "T42Jj6TP1Gbe"
      },
      "source": [
        "### Data Preparation for modeling without dummy variables for Model"
      ]
    },
    {
      "cell_type": "code",
      "execution_count": null,
      "metadata": {
        "colab": {
          "base_uri": "https://localhost:8080/"
        },
        "id": "icePZOLl7qgV",
        "outputId": "8f8e9f56-8d02-405f-9914-550dd240c207"
      },
      "outputs": [],
      "source": [
        "# defining the dependent and independent variables\n",
        "X = df.drop([\"Price\", \"Model\"], axis=1)\n",
        "y = df[\"Price\"]\n",
        "\n",
        "# creating dummy variables\n",
        "X = pd.get_dummies(\n",
        "    X,\n",
        "    columns=X.select_dtypes(include=[\"object\", \"category\"]).columns.tolist(),\n",
        "    drop_first=True,\n",
        ")\n",
        "\n",
        "# splitting the data in 70:30 ratio for train to test data\n",
        "\n",
        "x_train2, x_test2, y_train, y_test = train_test_split(\n",
        "    X, y, test_size=0.3, random_state=1\n",
        ")\n",
        "\n",
        "print(\"Number of rows in train data =\", x_train2.shape[0])\n",
        "print(\"Number of rows in test data =\", x_test2.shape[0])"
      ]
    },
    {
      "cell_type": "markdown",
      "metadata": {
        "id": "CCYQXxLr3ecl"
      },
      "source": [
        "### Model Building - Linear Regression without dummy variables for Model\n"
      ]
    },
    {
      "cell_type": "code",
      "execution_count": null,
      "metadata": {
        "colab": {
          "base_uri": "https://localhost:8080/",
          "height": 74
        },
        "id": "7ib4X3-P7qgV",
        "outputId": "0361e655-f809-4e75-ca29-c76fc32a766b"
      },
      "outputs": [],
      "source": [
        "# fitting a linear model\n",
        "lin_reg_model2 = LinearRegression()\n",
        "lin_reg_model2.fit(x_train2, y_train)"
      ]
    },
    {
      "cell_type": "code",
      "execution_count": null,
      "metadata": {
        "colab": {
          "base_uri": "https://localhost:8080/",
          "height": 98
        },
        "id": "2KeF95my7qgW",
        "outputId": "73ebd895-c78e-4b28-d073-df6043baa550"
      },
      "outputs": [],
      "source": [
        "# Checking model performance on train set\n",
        "print(\"Training Performance:\")\n",
        "lin_reg_model2_perf_train = model_performance_regression(\n",
        "    lin_reg_model2, x_train2, y_train\n",
        ")\n",
        "lin_reg_model2_perf_train"
      ]
    },
    {
      "cell_type": "code",
      "execution_count": null,
      "metadata": {
        "colab": {
          "base_uri": "https://localhost:8080/",
          "height": 98
        },
        "id": "kfnwhjLc7qgX",
        "outputId": "73c7ca2c-f2af-4a61-fa01-bf6895dab3cb"
      },
      "outputs": [],
      "source": [
        "# Checking model performance on test set\n",
        "print(\"Test Performance:\")\n",
        "lin_reg_model2_perf_test = model_performance_regression(lin_reg_model2, x_test2, y_test)\n",
        "lin_reg_model2_perf_test"
      ]
    },
    {
      "cell_type": "markdown",
      "metadata": {
        "id": "iWjsiy4t7qgX"
      },
      "source": [
        "* Both the R-squared and Adjusted R squared of our model are lesser than before and the model is able to explain up to 80% of the variance in the price of used cars.\n",
        "* MAE indicates that our current model is able to predict used car prices within a mean error of 2.75 lakhs on test data.\n"
      ]
    },
    {
      "cell_type": "markdown",
      "metadata": {
        "id": "5u5zZRgn7qgX"
      },
      "source": [
        "### Model Performance Comparison"
      ]
    },
    {
      "cell_type": "code",
      "execution_count": null,
      "metadata": {
        "colab": {
          "base_uri": "https://localhost:8080/",
          "height": 192
        },
        "id": "lJxakGsZ7qgX",
        "outputId": "926b3f83-8b93-411a-8251-6e7243aabef3"
      },
      "outputs": [],
      "source": [
        "# training performance comparison\n",
        "\n",
        "models_train_comp_df = pd.concat(\n",
        "    [lin_reg_model1_perf_train.T, lin_reg_model2_perf_train.T,], axis=1,\n",
        ")\n",
        "\n",
        "models_train_comp_df.columns = [\n",
        "    \"Linear Regression (all variables)\",\n",
        "    \"Linear Regression (without dummy variables for Model)\",\n",
        "]\n",
        "\n",
        "print(\"Training performance comparison:\")\n",
        "models_train_comp_df"
      ]
    },
    {
      "cell_type": "code",
      "execution_count": null,
      "metadata": {
        "colab": {
          "base_uri": "https://localhost:8080/",
          "height": 192
        },
        "id": "e7pDsd2S7qgX",
        "outputId": "022a24dd-6b44-415c-8150-4290e876c385"
      },
      "outputs": [],
      "source": [
        "# test performance comparison\n",
        "\n",
        "models_test_comp_df = pd.concat(\n",
        "    [lin_reg_model1_perf_test.T, lin_reg_model2_perf_test.T,], axis=1,\n",
        ")\n",
        "\n",
        "models_test_comp_df.columns = [\n",
        "    \"Linear Regression (all variables)\",\n",
        "    \"Linear Regression (without dummy variables for Model)\",\n",
        "]\n",
        "\n",
        "print(\"Test performance comparison:\")\n",
        "models_test_comp_df"
      ]
    },
    {
      "cell_type": "markdown",
      "metadata": {
        "id": "BvjvxFfO7qgX"
      },
      "source": [
        "**We will consider *lin_reg_model1* (model with all variables) as our final model.**"
      ]
    },
    {
      "cell_type": "markdown",
      "metadata": {
        "id": "T2GolnQVHC4-"
      },
      "source": [
        "## Business Insights and Recommendations"
      ]
    },
    {
      "cell_type": "markdown",
      "metadata": {
        "id": "b6gERt7X7qgX"
      },
      "source": [
        "1. Our linear regression model has successfully explained approximately 83% of the variation in the data.\n",
        "2. The Mean Absolute Error (MAE) indicates that our current model can predict used car prices with an average error of around 2.38 lakhs on the test data.\n",
        "3. Our analysis has revealed that certain factors, such as the year of manufacture, the number of seats, and the maximum power of the engine, tend to increase the price of a used car. Conversely, factors like the distance traveled and engine volume tend to decrease the price of a used car.\n",
        "4. Certain markets tend to have higher prices, and it would be beneficial for Cars4U to focus on these markets and establish offices in these areas if necessary.\n",
        "5. We need to gather data on the cost side of things before discussing profitability in the business.\n",
        "6. After analyzing the data, the next step would be to cluster the different data sets and determine whether we should create multiple models for different locations or car types.\n",
        "\n",
        "\n",
        "\n"
      ]
    },
    {
      "cell_type": "markdown",
      "metadata": {
        "id": "D2eFxAmjC-PS"
      },
      "source": [
        "## <a name='link1'>Appendix: Detailed Exploratory Data Analysis (EDA)</a>"
      ]
    },
    {
      "cell_type": "markdown",
      "metadata": {
        "id": "tdDYbUXH7qga"
      },
      "source": [
        "### Univariate Analysis"
      ]
    },
    {
      "cell_type": "markdown",
      "metadata": {
        "id": "lLXVWxH47qgc"
      },
      "source": [
        "#### `Kilometers_Driven`"
      ]
    },
    {
      "cell_type": "code",
      "execution_count": null,
      "metadata": {
        "colab": {
          "base_uri": "https://localhost:8080/"
        },
        "id": "jRwP_TBd7qgc",
        "outputId": "c4aacf4e-5a15-4745-e54d-8d7009d3debf"
      },
      "outputs": [],
      "source": [
        "histogram_boxplot(df1, \"Kilometers_Driven\", bins=100, kde=True)"
      ]
    },
    {
      "cell_type": "markdown",
      "metadata": {
        "id": "H8R5gk8M7qgc"
      },
      "source": [
        "**Observations**\n",
        "\n",
        "* This is another highly skewed distribution.\n",
        "* Let us use log transformation on this column too."
      ]
    },
    {
      "cell_type": "code",
      "execution_count": null,
      "metadata": {
        "id": "h9LXGi9V7qgc"
      },
      "outputs": [],
      "source": [
        "df1[\"kilometers_driven_log\"] = np.log(df1[\"Kilometers_Driven\"])"
      ]
    },
    {
      "cell_type": "code",
      "execution_count": null,
      "metadata": {
        "colab": {
          "base_uri": "https://localhost:8080/"
        },
        "id": "wAeICinL7qgc",
        "outputId": "2f40b4de-d444-46a0-a38d-d55ce8b0f183"
      },
      "outputs": [],
      "source": [
        "histogram_boxplot(df1, \"kilometers_driven_log\", bins=100, kde=True)"
      ]
    },
    {
      "cell_type": "markdown",
      "metadata": {
        "id": "qlE4Qn1z7qgc"
      },
      "source": [
        "* Transformation has reduced the extreme skewness."
      ]
    },
    {
      "cell_type": "markdown",
      "metadata": {
        "id": "GPKdwqGw7qgc"
      },
      "source": [
        "#### `mileage_num`"
      ]
    },
    {
      "cell_type": "code",
      "execution_count": null,
      "metadata": {
        "colab": {
          "base_uri": "https://localhost:8080/"
        },
        "id": "noQcgzdk7qgd",
        "outputId": "b2d90bc5-feb0-4c71-fc9d-29cbb15ef49e"
      },
      "outputs": [],
      "source": [
        "histogram_boxplot(df1, \"mileage_num\", kde=True)"
      ]
    },
    {
      "cell_type": "markdown",
      "metadata": {
        "id": "mpR0u5qA7qgd"
      },
      "source": [
        "**Observations**\n",
        "\n",
        "* This is a close to normally distributed attribute."
      ]
    },
    {
      "cell_type": "markdown",
      "metadata": {
        "id": "PHqiu-HX7qgd"
      },
      "source": [
        "#### `engine_num`"
      ]
    },
    {
      "cell_type": "code",
      "execution_count": null,
      "metadata": {
        "colab": {
          "base_uri": "https://localhost:8080/"
        },
        "id": "fRL6GEd67qgd",
        "outputId": "7ba2a467-b199-4cbe-a49e-ad37d2ebc284"
      },
      "outputs": [],
      "source": [
        "histogram_boxplot(df1, \"engine_num\", kde=True)"
      ]
    },
    {
      "cell_type": "markdown",
      "metadata": {
        "id": "o7WJKJ0j7qgd"
      },
      "source": [
        "**Observations**\n",
        "\n",
        "* There are a few car with a higher engine displacement volume."
      ]
    },
    {
      "cell_type": "markdown",
      "metadata": {
        "id": "-_NuZlBm7qgd"
      },
      "source": [
        "#### `power_num`"
      ]
    },
    {
      "cell_type": "code",
      "execution_count": null,
      "metadata": {
        "colab": {
          "base_uri": "https://localhost:8080/"
        },
        "id": "656JsZte7qgd",
        "outputId": "3c8fde2a-b4b3-4220-8153-2d552edcfc11"
      },
      "outputs": [],
      "source": [
        "histogram_boxplot(df1, \"power_num\", kde=True)"
      ]
    },
    {
      "cell_type": "markdown",
      "metadata": {
        "id": "uHQIXO2p7qgd"
      },
      "source": [
        "**Observations**\n",
        "\n",
        "* There are a few car with a higher engine power."
      ]
    },
    {
      "cell_type": "code",
      "execution_count": null,
      "metadata": {
        "colab": {
          "base_uri": "https://localhost:8080/"
        },
        "id": "kP3EwSDj7qgP",
        "outputId": "1628d187-e06d-436e-df6a-a58eee2860b4"
      },
      "outputs": [],
      "source": [
        "# creating histograms\n",
        "df.hist(figsize=(14, 14))\n",
        "plt.show()"
      ]
    },
    {
      "cell_type": "markdown",
      "metadata": {
        "id": "2A-iJpCP7qgP"
      },
      "source": [
        "- `Price`: The price of a used car is the target variable and has a highly skewed distribution, with a median value of around 53.5 lakh INR. The log transformation was applied on this column to reduce skewness. The displacement volume of the engine, the maximum power of the engine and the price of a new car of the same model is highly correlated with the price of a used car.\n",
        "- `Mileage`: This attribute has a close to normally distribution. With increase in mileage, the engine displacement and power decrease.\n",
        "- `Engine`: There are a few upper outliers, indicating that there are a few car with a higher engine displacement volume. Higher priced cars have higher engine displacement. It is also highly correlated with the maximum engine power.\n",
        "- `Power`: There are a few upper outliers, indicating that there are a few car with a higher power. Higher priced cars have higher maximum power. It is also highly correlated with the engine displacement volume.\n",
        "- `Kilometers_driven`: The number of kilometers a used car is driven has a highly skewed distribution, with a median value of around 53.5 thousand. The log transformation was applied on this column to reduce skewness.\n",
        "- `New_Price`: The price of a used car is the target variable and has a highly skewed distribution, with a median value of around 11.3 lakh INR. The log transformation was applied on this column to reduce skewness.\n",
        "- `Seats`: 84% of the cars in the dataset are 5-seater cars.\n",
        "- `Year`: More than half the cars in the data were manufactured in or after 2014. The price of used cars has increased over the years.\n",
        "- `Brand`: Most of the cars in the data belong to Maruti or Hyundai. The price of used cars is lower for budget brands like Porsche, Bentley, Lamborghini, etc. The price of used cars is higher for premium brands like Maruti, Tata, Fiat, etc.\n",
        "- `Model`: Maruti Swift is the most common car up for resale. The dataset contains used cars from luxury as well as budget-friendly brands.\n",
        "- `Location`: Hyderabad and Mumbai have the most demand for used cars. The price of used cars has a large IQR in Coimbatore and Bangalore.\n",
        "- `Fuel_Type`: Around 1% of the cars in the dataset do not run on diesel or petrol. Electric cars have the highest median price, followed by diesel cars.\n",
        "- `Transmission`: More than 70% of the cars have manual transmission. The price is higher for used cars with automatic transmission.\n",
        "- `Owner_Type`: More than 80% of the used cars are being sold for the first time. The price of cars decreases as they keep getting resold."
      ]
    },
    {
      "cell_type": "markdown",
      "metadata": {
        "id": "ipUkvSwz7qgd"
      },
      "source": [
        "#### `Model`"
      ]
    },
    {
      "cell_type": "code",
      "execution_count": null,
      "metadata": {
        "colab": {
          "base_uri": "https://localhost:8080/"
        },
        "id": "LSJKt0sc7qgd",
        "outputId": "d600689a-b9ed-4031-f5b1-ea5bbc14d0bf"
      },
      "outputs": [],
      "source": [
        "labeled_barplot(df1, \"Model\", perc=True, n=10)"
      ]
    },
    {
      "cell_type": "markdown",
      "metadata": {
        "id": "YvxcgMEz7qge"
      },
      "source": [
        "**Observations**\n",
        "\n",
        "* Maruti Swift is the most common car up for resale.\n",
        "\n",
        "* It is clear from the above charts that our dataset contains used cars from luxury as well as budget-friendly brands.\n",
        "\n",
        "* We can create a new variable using this information. We can consider binning all our cars into the following 3 categories later:\n",
        "\n",
        "    1. Budget-Friendly\n",
        "    2. Mid Range\n",
        "    3. Luxury Cars"
      ]
    },
    {
      "cell_type": "markdown",
      "metadata": {
        "id": "sG7mxmsh7qge"
      },
      "source": [
        "#### `Seats`"
      ]
    },
    {
      "cell_type": "code",
      "execution_count": null,
      "metadata": {
        "colab": {
          "base_uri": "https://localhost:8080/"
        },
        "id": "7Xm54hcv7qge",
        "outputId": "04cfcf07-6457-46ba-c6f4-e9488ce34d4a"
      },
      "outputs": [],
      "source": [
        "labeled_barplot(df1, \"Seats\", perc=True)"
      ]
    },
    {
      "cell_type": "markdown",
      "metadata": {
        "id": "0u9pqqNU7qge"
      },
      "source": [
        "* 84% of the cars in the dataset are 5-seater cars."
      ]
    },
    {
      "cell_type": "markdown",
      "metadata": {
        "id": "-ChY-dfR7qge"
      },
      "source": [
        "#### `Year`"
      ]
    },
    {
      "cell_type": "code",
      "execution_count": null,
      "metadata": {
        "colab": {
          "base_uri": "https://localhost:8080/"
        },
        "id": "EcTyMY4l7qge",
        "outputId": "27118d02-2b72-4b0f-8459-f76e007e3f5a"
      },
      "outputs": [],
      "source": [
        "labeled_barplot(df1, \"Year\", perc=True)"
      ]
    },
    {
      "cell_type": "markdown",
      "metadata": {
        "id": "eIr0UuQT7qge"
      },
      "source": [
        "* More than half the cars in the data were manufactured in or after 2014."
      ]
    },
    {
      "cell_type": "markdown",
      "metadata": {
        "id": "OsIgJ04R7qge"
      },
      "source": [
        "#### `Transmission`"
      ]
    },
    {
      "cell_type": "code",
      "execution_count": null,
      "metadata": {
        "colab": {
          "base_uri": "https://localhost:8080/"
        },
        "id": "jYlLXGxi7qge",
        "outputId": "0e1313c7-1ac8-4ab9-e0f8-9453991b77c5"
      },
      "outputs": [],
      "source": [
        "labeled_barplot(df1, \"Transmission\", perc=True)"
      ]
    },
    {
      "cell_type": "markdown",
      "metadata": {
        "id": "4HDDeuEl7qgf"
      },
      "source": [
        "* More than 70% of the cars have manual transmission."
      ]
    },
    {
      "cell_type": "markdown",
      "metadata": {
        "id": "_iInaZLs7qgg"
      },
      "source": [
        "#### `Owner_Type`"
      ]
    },
    {
      "cell_type": "code",
      "execution_count": null,
      "metadata": {
        "colab": {
          "base_uri": "https://localhost:8080/"
        },
        "id": "JD8hMv4_7qgg",
        "outputId": "2ad69b51-4690-480c-abc1-d015fca7b1e9"
      },
      "outputs": [],
      "source": [
        "labeled_barplot(df1, \"Owner_Type\", perc=True)"
      ]
    },
    {
      "cell_type": "markdown",
      "metadata": {
        "id": "BjnIsdcl7qgg"
      },
      "source": [
        "* More than 80% of the used cars are being sold for the first time."
      ]
    },
    {
      "cell_type": "markdown",
      "metadata": {
        "id": "nEDRlDTm7qgg"
      },
      "source": [
        "### Bivariate Analysis"
      ]
    },
    {
      "cell_type": "markdown",
      "metadata": {
        "id": "gL7DBYuC7qgg"
      },
      "source": [
        "**Let's check the variation in Price with some of the other variables.**"
      ]
    },
    {
      "cell_type": "markdown",
      "metadata": {
        "id": "OT2yi77m7qgQ"
      },
      "source": [
        "#### `Price` vs `Transmission`"
      ]
    },
    {
      "cell_type": "code",
      "execution_count": null,
      "metadata": {
        "colab": {
          "base_uri": "https://localhost:8080/"
        },
        "id": "Wcean4qb7qgQ",
        "outputId": "5474f0b2-8ea3-473f-d343-89d3eb1b55e2"
      },
      "outputs": [],
      "source": [
        "plt.figure(figsize=(5, 5))\n",
        "sns.boxplot(x=\"Transmission\", y=\"Price\", data=df)\n",
        "plt.show()"
      ]
    },
    {
      "cell_type": "markdown",
      "metadata": {
        "id": "9NfN1Dfm7qgQ"
      },
      "source": [
        "* The price is higher for used cars with automatic transmission."
      ]
    },
    {
      "cell_type": "markdown",
      "metadata": {
        "id": "QzE4NOLn7qgQ"
      },
      "source": [
        "#### `Price` vs `Fuel_Type`"
      ]
    },
    {
      "cell_type": "code",
      "execution_count": null,
      "metadata": {
        "colab": {
          "base_uri": "https://localhost:8080/"
        },
        "id": "xZAvt60t7qgQ",
        "outputId": "b70d33ee-a00e-4bdc-eb11-8590df908c57"
      },
      "outputs": [],
      "source": [
        "plt.figure(figsize=(18, 5))\n",
        "sns.boxplot(x=\"Fuel_Type\", y=\"Price\", data=df)\n",
        "plt.show()"
      ]
    },
    {
      "cell_type": "markdown",
      "metadata": {
        "id": "rKnZnFpl7qgQ"
      },
      "source": [
        "* Electric cars have the highest median price, followed by diesel cars."
      ]
    },
    {
      "cell_type": "markdown",
      "metadata": {
        "id": "l5-C4x7Q7qgh"
      },
      "source": [
        "#### `Price` vs `Brand`"
      ]
    },
    {
      "cell_type": "code",
      "execution_count": null,
      "metadata": {
        "colab": {
          "base_uri": "https://localhost:8080/"
        },
        "id": "FyCaRT4e7qgh",
        "outputId": "95fc7b27-11d4-431b-a3bc-bfbcbfd5a494"
      },
      "outputs": [],
      "source": [
        "plt.figure(figsize=(18, 5))\n",
        "sns.boxplot(x=\"Brand\", y=\"Price\", data=df1)\n",
        "plt.xticks(rotation=90)\n",
        "plt.show()"
      ]
    },
    {
      "cell_type": "markdown",
      "metadata": {
        "id": "L4VPs-A17qgh"
      },
      "source": [
        "* The price of used cars is lower for budget brands like Maruti, Tata, Fiat, etc.\n",
        "* The price of used cars is higher for premium brands like Porsche, Audi, Lamborghini, etc."
      ]
    },
    {
      "cell_type": "markdown",
      "metadata": {
        "id": "y5Vqlehz7qgh"
      },
      "source": [
        "#### `Price` vs `Transmission`"
      ]
    },
    {
      "cell_type": "code",
      "execution_count": null,
      "metadata": {
        "colab": {
          "base_uri": "https://localhost:8080/"
        },
        "id": "Laju9wn97qgh",
        "outputId": "7f436dd1-3d4e-4407-cf16-ea20e91edcf6"
      },
      "outputs": [],
      "source": [
        "plt.figure(figsize=(5, 5))\n",
        "sns.boxplot(x=\"Transmission\", y=\"Price\", data=df1)\n",
        "plt.show()"
      ]
    },
    {
      "cell_type": "markdown",
      "metadata": {
        "id": "WM1oUbuu7qgh"
      },
      "source": [
        "* The price is higher for used cars with automatic transmission."
      ]
    },
    {
      "cell_type": "markdown",
      "metadata": {
        "id": "SHL5A6fn7qgh"
      },
      "source": [
        "#### `Price` vs `Fuel_Type`"
      ]
    },
    {
      "cell_type": "code",
      "execution_count": null,
      "metadata": {
        "colab": {
          "base_uri": "https://localhost:8080/"
        },
        "id": "yF90sBer7qgh",
        "outputId": "b4a08c6a-3156-4602-c6cf-05c893f4dad3"
      },
      "outputs": [],
      "source": [
        "plt.figure(figsize=(18, 5))\n",
        "sns.boxplot(x=\"Fuel_Type\", y=\"Price\", data=df1)\n",
        "plt.show()"
      ]
    },
    {
      "cell_type": "markdown",
      "metadata": {
        "id": "FsYrYMxT7qgi"
      },
      "source": [
        "* Electric cars have the highest median price, followed by diesel cars."
      ]
    },
    {
      "cell_type": "markdown",
      "metadata": {
        "id": "_qCaiIBc7qgi"
      },
      "source": [
        "#### `Price` vs `Owner_Type`"
      ]
    },
    {
      "cell_type": "code",
      "execution_count": null,
      "metadata": {
        "colab": {
          "base_uri": "https://localhost:8080/"
        },
        "id": "gWPGEhZp7qgi",
        "outputId": "9e90fb76-163e-4ea9-be01-fd66ad6d2c0d"
      },
      "outputs": [],
      "source": [
        "plt.figure(figsize=(18, 5))\n",
        "sns.boxplot(x=\"Owner_Type\", y=\"Price\", data=df1)\n",
        "plt.show()"
      ]
    },
    {
      "cell_type": "markdown",
      "metadata": {
        "id": "-YbgGs9Q7qgi"
      },
      "source": [
        "* The price of cars decreases as they keep getting resold."
      ]
    },
    {
      "cell_type": "markdown",
      "metadata": {
        "id": "MBHhnjDCljw-"
      },
      "source": [
        "#### Pairplot for relations between numerical variables"
      ]
    },
    {
      "cell_type": "code",
      "execution_count": null,
      "metadata": {
        "colab": {
          "base_uri": "https://localhost:8080/"
        },
        "id": "XGDTfW-37qgP",
        "outputId": "bd5caf1e-5a97-47fa-c30a-c9032b6f33a4"
      },
      "outputs": [],
      "source": [
        "sns.pairplot(data=df1, hue=\"Fuel_Type\")\n",
        "plt.show()"
      ]
    },
    {
      "cell_type": "markdown",
      "metadata": {
        "id": "4LR9E1ae7qgP"
      },
      "source": [
        "\n",
        "Zooming into these plots gives us a lot of information.\n",
        "\n",
        "- Contrary to intuition, `Kilometers_Driven` does not seem to have a relationship with the price.\n",
        "- `Price` has a positive relationship with `Year`, i.e., the newer the car, the higher the price.\n",
        "    - The temporal element of variation is captured in the year column.\n",
        "\n",
        "- 2 seater cars are all luxury variants. Cars with 8-10 seats are exclusively mid to high range.\n",
        "- Mileage does not seem to show much relationship with the price of used cars.\n",
        "- Engine displacement and power of the car have a positive relationship with the price.\n",
        "- `New_Price` and used car price are also positively correlated, which is expected.\n",
        "- `Kilometers_Driven` has a peculiar relationship with the `Year` variable. Generally, the newer the car lesser the distance it has traveled, but this is not always true.\n",
        "- CNG cars are conspicuous outliers when it comes to `Mileage`. The mileage of these cars is very high.\n",
        "- The mileage and power of newer cars are increasing owing to advancements in technology.\n",
        "- Mileage has a negative correlation with engine displacement and power. More powerful the engine, the more fuel it consumes in general."
      ]
    },
    {
      "cell_type": "markdown",
      "metadata": {
        "id": "wFzgqrtFoHNk"
      },
      "source": [
        "### To jump back to the EDA summary section, click <a href = #link2>here</a>."
      ]
    }
  ],
  "metadata": {
    "colab": {
      "collapsed_sections": [
        "W_Ho8VGKDu3S",
        "9d5QE-n57qf9",
        "xxhpZv9y-qTw",
        "_ruS1OQwB_fX",
        "qlzqMR1K-qTz",
        "KQi5ygTC-qT1",
        "wBplxfQ5L2VQ",
        "5TcqcxbK-qT3",
        "xNr4bWoM-qT5",
        "kUJ_B5KxhU3D",
        "9nu28gwqexqz",
        "HdlR3wVEMyfW",
        "s7MRxT3t7qga",
        "k3uJz1M5Ftfs",
        "mrTVWk3I7qgd",
        "qL4SMFui7qge",
        "NE2JV7LD7qgf",
        "mqV9hRi9MoKW",
        "VKRHs0BHFMz6",
        "ONKpeUbX7qgg",
        "LUrktk3s7qgP",
        "BUM8wCaH7qgh",
        "mJM22vsN7qgQ",
        "eU_yWERC7qgQ",
        "1JsqBJEohmWK",
        "9dgIbf7ALlYm",
        "but7oI7m2vvY",
        "BORpLf603HRr",
        "T42Jj6TP1Gbe",
        "CCYQXxLr3ecl",
        "5u5zZRgn7qgX",
        "T2GolnQVHC4-",
        "D2eFxAmjC-PS",
        "tdDYbUXH7qga",
        "lLXVWxH47qgc",
        "GPKdwqGw7qgc",
        "PHqiu-HX7qgd",
        "-_NuZlBm7qgd",
        "ipUkvSwz7qgd",
        "sG7mxmsh7qge",
        "-ChY-dfR7qge",
        "OsIgJ04R7qge",
        "_iInaZLs7qgg",
        "nEDRlDTm7qgg",
        "OT2yi77m7qgQ",
        "QzE4NOLn7qgQ",
        "l5-C4x7Q7qgh",
        "y5Vqlehz7qgh",
        "SHL5A6fn7qgh",
        "_qCaiIBc7qgi",
        "MBHhnjDCljw-"
      ],
      "provenance": []
    },
    "kernelspec": {
      "display_name": "Python 3",
      "language": "python",
      "name": "python3"
    },
    "language_info": {
      "codemirror_mode": {
        "name": "ipython",
        "version": 3
      },
      "file_extension": ".py",
      "mimetype": "text/x-python",
      "name": "python",
      "nbconvert_exporter": "python",
      "pygments_lexer": "ipython3",
      "version": "3.11.9"
    }
  },
  "nbformat": 4,
  "nbformat_minor": 0
}
